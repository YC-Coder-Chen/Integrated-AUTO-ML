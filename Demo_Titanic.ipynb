{
 "cells": [
  {
   "cell_type": "code",
   "execution_count": 16,
   "metadata": {},
   "outputs": [],
   "source": [
    "import pandas as pd\n",
    "import xgboost as xgb\n",
    "import sklearn as sk\n",
    "import warnings\n",
    "warnings.filterwarnings(\"ignore\")\n",
    "from AUTO_ML import data_cleaning, feature_check, autoML, autoPredict"
   ]
  },
  {
   "cell_type": "code",
   "execution_count": 3,
   "metadata": {},
   "outputs": [],
   "source": [
    "data = pd.read_csv('./Test_Data/Titanic_train.csv')"
   ]
  },
  {
   "cell_type": "markdown",
   "metadata": {},
   "source": [
    "#### Step One: Clean the dataset"
   ]
  },
  {
   "cell_type": "code",
   "execution_count": 4,
   "metadata": {},
   "outputs": [
    {
     "data": {
      "text/plain": [
       "{'Age': '4',\n",
       " 'Embarked': '2',\n",
       " 'Fare': '4',\n",
       " 'Parch': '2',\n",
       " 'Pclass': '2',\n",
       " 'Sex': '2',\n",
       " 'SibSp': '2'}"
      ]
     },
     "execution_count": 4,
     "metadata": {},
     "output_type": "execute_result"
    }
   ],
   "source": [
    "actions_dict = {1: 'drop', 2: 'dummy', 3: 'indicator', 4: 'numeric', 5: 'time', 6: 'later'} # user defined\n",
    "tar_col = 'Survived'\n",
    "# set up the cleaning object\n",
    "s1 = data_cleaning(data, list(set(data.columns)-set([tar_col])), tar_col, actions_dict)\n",
    "# use start_action function to loop through all the features\n",
    "action_dict = s1.start_action() \n",
    "action_dict"
   ]
  },
  {
   "cell_type": "code",
   "execution_count": 5,
   "metadata": {},
   "outputs": [],
   "source": [
    "# action_dict records all the necessary action, now we can clean all of them at once\n",
    "drop = [i for i in action_dict.keys() if action_dict[i]==str(1)]\n",
    "dummy = [i for i in action_dict.keys() if action_dict[i]==str(2)]\n",
    "indicator = [i for i in action_dict.keys() if action_dict[i]==str(3)]\n",
    "numeric = [i for i in action_dict.keys() if action_dict[i]==str(4)]\n",
    "time = [i for i in action_dict.keys() if action_dict[i]==str(5)]\n",
    "later = [i for i in action_dict.keys() if action_dict[i]==str(6)]\n",
    "\n",
    "data = data.drop(drop,axis=1)\n",
    "data[numeric] = data[numeric].astype(float)\n",
    "for ind in indicator:\n",
    "    data[ind] = np.where(~data[ind].isnull(),1,0)\n",
    "data = pd.get_dummies(data,columns=dummy,dummy_na=True)\n",
    "nan_col = []\n",
    "for i in data.columns:\n",
    "    if 'nan' in i:\n",
    "        nan_col.append(i)\n",
    "data = data.drop(drop+nan_col,axis=1)"
   ]
  },
  {
   "cell_type": "markdown",
   "metadata": {},
   "source": [
    "#### Step Two: Check data cleaning result"
   ]
  },
  {
   "cell_type": "code",
   "execution_count": 8,
   "metadata": {},
   "outputs": [
    {
     "data": {
      "text/html": [
       "<div>\n",
       "<style scoped>\n",
       "    .dataframe tbody tr th:only-of-type {\n",
       "        vertical-align: middle;\n",
       "    }\n",
       "\n",
       "    .dataframe tbody tr th {\n",
       "        vertical-align: top;\n",
       "    }\n",
       "\n",
       "    .dataframe thead th {\n",
       "        text-align: right;\n",
       "    }\n",
       "</style>\n",
       "<table border=\"1\" class=\"dataframe\">\n",
       "  <thead>\n",
       "    <tr style=\"text-align: right;\">\n",
       "      <th></th>\n",
       "      <th>features</th>\n",
       "      <th>#null</th>\n",
       "    </tr>\n",
       "  </thead>\n",
       "  <tbody>\n",
       "    <tr>\n",
       "      <th>0</th>\n",
       "      <td>Survived</td>\n",
       "      <td>0</td>\n",
       "    </tr>\n",
       "    <tr>\n",
       "      <th>1</th>\n",
       "      <td>Age</td>\n",
       "      <td>177</td>\n",
       "    </tr>\n",
       "    <tr>\n",
       "      <th>2</th>\n",
       "      <td>Fare</td>\n",
       "      <td>0</td>\n",
       "    </tr>\n",
       "    <tr>\n",
       "      <th>3</th>\n",
       "      <td>Embarked_C</td>\n",
       "      <td>0</td>\n",
       "    </tr>\n",
       "    <tr>\n",
       "      <th>4</th>\n",
       "      <td>Embarked_Q</td>\n",
       "      <td>0</td>\n",
       "    </tr>\n",
       "  </tbody>\n",
       "</table>\n",
       "</div>"
      ],
      "text/plain": [
       "     features  #null\n",
       "0    Survived      0\n",
       "1         Age    177\n",
       "2        Fare      0\n",
       "3  Embarked_C      0\n",
       "4  Embarked_Q      0"
      ]
     },
     "execution_count": 8,
     "metadata": {},
     "output_type": "execute_result"
    }
   ],
   "source": [
    "# use check_missing function to check which features have N/A\n",
    "# returns (dataframe, column name list)\n",
    "s2 = feature_check(data, 'Survived') # set up checking object\n",
    "s2.check_missing()[0].head()"
   ]
  },
  {
   "cell_type": "code",
   "execution_count": 9,
   "metadata": {},
   "outputs": [
    {
     "data": {
      "text/plain": [
       "['Age']"
      ]
     },
     "execution_count": 9,
     "metadata": {},
     "output_type": "execute_result"
    }
   ],
   "source": [
    "s2.check_missing()[1] # only age column has missing values"
   ]
  },
  {
   "cell_type": "code",
   "execution_count": 10,
   "metadata": {},
   "outputs": [
    {
     "data": {
      "text/plain": [
       "True"
      ]
     },
     "execution_count": 10,
     "metadata": {},
     "output_type": "execute_result"
    }
   ],
   "source": [
    "s2.check_object()  # check whether there are still object type, True means no object type"
   ]
  },
  {
   "cell_type": "code",
   "execution_count": 11,
   "metadata": {},
   "outputs": [
    {
     "data": {
      "text/plain": [
       "0    549\n",
       "1    342\n",
       "Name: Survived, dtype: int64"
      ]
     },
     "execution_count": 11,
     "metadata": {},
     "output_type": "execute_result"
    }
   ],
   "source": [
    "s2.check_imblance() # check class-balance, we should use smote"
   ]
  },
  {
   "cell_type": "markdown",
   "metadata": {},
   "source": [
    "#### Step Three: AUTO ML"
   ]
  },
  {
   "cell_type": "code",
   "execution_count": 12,
   "metadata": {},
   "outputs": [],
   "source": [
    "s3 = autoML(data, 'Survived') # set up auto ML object\n",
    "s3.split() # split the dataset into train and test\n",
    "# can use s3.train to check train set\n",
    "# s3.test to check test set, you can also define your own"
   ]
  },
  {
   "cell_type": "code",
   "execution_count": 13,
   "metadata": {},
   "outputs": [],
   "source": [
    "# grid-search on k-fold to find the best hyper-parameters\n",
    "\n",
    "grid_serach = {'max_depth': [1, 3, 5, 7, 9],\n",
    " 'colsample_bytree': [0.1, 0.3, 0.5, 0.7],\n",
    " 'n_estimators': [10, 30, 50 ,100]} # the grid_search range\n",
    "\n",
    "# you can define your own filler such as {'Age': 30}\n",
    "fill_method = 'mean' # how you want to fill the missing values\n",
    "\n",
    "# return (grid_search_dictionary, the highest score, the lowest score)\n",
    "result = s3.cross_validation(fold=5, \n",
    "                             col = list(set(data.columns)-set(['Survived'])), \n",
    "                            model = xgb.XGBClassifier, \n",
    "                            params=grid_serach, \n",
    "                            scorer=sk.metrics.roc_auc_score, # we use roc for classification\n",
    "                            fill_method = fill_method, \n",
    "                            fkbest=[5,6,7,8,9,10,11,12,13,14],  # feature selection using f-statistics \n",
    "                            scaling = True, \n",
    "                            smote=True, \n",
    "                            classification=True)"
   ]
  },
  {
   "cell_type": "code",
   "execution_count": 20,
   "metadata": {},
   "outputs": [
    {
     "data": {
      "text/plain": [
       "{(1, 0.1, 10, 5): 0.8257385911445162,\n",
       " (1, 0.1, 30, 5): 0.824335293884807,\n",
       " (1, 0.1, 50, 5): 0.8275181120389448,\n",
       " (1, 0.1, 100, 5): 0.8271984975802338,\n",
       " (1, 0.3, 10, 5): 0.8269705667161146,\n",
       " (1, 0.3, 30, 5): 0.8252491276738887,\n",
       " (1, 0.3, 50, 5): 0.8273198701732714,\n",
       " (1, 0.3, 100, 5): 0.8287610324781036,\n",
       " (1, 0.5, 10, 5): 0.8153059146843533,\n",
       " (1, 0.5, 30, 5): 0.8264431996051664}"
      ]
     },
     "execution_count": 20,
     "metadata": {},
     "output_type": "execute_result"
    }
   ],
   "source": [
    "dict(list(result[0].items())[0:10]) # list ten of the result"
   ]
  },
  {
   "cell_type": "code",
   "execution_count": 21,
   "metadata": {},
   "outputs": [
    {
     "data": {
      "text/plain": [
       "((9, 0.5, 100, 9), 0.8642311650180499)"
      ]
     },
     "execution_count": 21,
     "metadata": {},
     "output_type": "execute_result"
    }
   ],
   "source": [
    "result[1] # the best parameters"
   ]
  },
  {
   "cell_type": "code",
   "execution_count": 22,
   "metadata": {},
   "outputs": [
    {
     "data": {
      "text/plain": [
       "((3, 0.1, 10, 8), 0.7923000945122849)"
      ]
     },
     "execution_count": 22,
     "metadata": {},
     "output_type": "execute_result"
    }
   ],
   "source": [
    "result[2]"
   ]
  },
  {
   "cell_type": "code",
   "execution_count": 23,
   "metadata": {},
   "outputs": [
    {
     "name": "stdout",
     "output_type": "stream",
     "text": [
      "The score is 0.8789083200847907\n"
     ]
    },
    {
     "data": {
      "image/png": "[encoded data removed]",
      "text/plain": [
       "<Figure size 432x288 with 1 Axes>"
      ]
     },
     "metadata": {
      "needs_background": "light"
     },
     "output_type": "display_data"
    }
   ],
   "source": [
    "# retrain on the whole trainset and test on the testset\n",
    "# automatically plot the precision and recall line\n",
    "# return (model, prediction)\n",
    "best_params = {'max_depth': [9],\n",
    " 'colsample_bytree': [0.5],\n",
    " 'n_estimators': [100]}\n",
    "fill_method = 'mean'\n",
    "\n",
    "result = s3.predict_test(col = list(set(data.columns)-set(['Survived'])), \n",
    "                        model = xgb.XGBClassifier, \n",
    "                        best_params=best_params, \n",
    "                        scorer=sk.metrics.roc_auc_score,\n",
    "                        fill_method = fill_method, fkbest=9, \n",
    "                        scaling = True, smote=True, classification=True)"
   ]
  },
  {
   "cell_type": "code",
   "execution_count": 24,
   "metadata": {},
   "outputs": [
    {
     "data": {
      "text/plain": [
       "XGBClassifier(base_score=0.5, booster='gbtree', colsample_bylevel=1,\n",
       "       colsample_bynode=1, colsample_bytree=0.5, gamma=0,\n",
       "       learning_rate=0.1, max_delta_step=0, max_depth=9,\n",
       "       min_child_weight=1, missing=None, n_estimators=100, n_jobs=1,\n",
       "       nthread=None, objective='binary:logistic', random_state=0,\n",
       "       reg_alpha=0, reg_lambda=1, scale_pos_weight=1, seed=None,\n",
       "       silent=None, subsample=1, verbosity=1)"
      ]
     },
     "execution_count": 24,
     "metadata": {},
     "output_type": "execute_result"
    }
   ],
   "source": [
    "result[0]"
   ]
  },
  {
   "cell_type": "code",
   "execution_count": 25,
   "metadata": {},
   "outputs": [
    {
     "data": {
      "text/plain": [
       "<matplotlib.axes._subplots.AxesSubplot at 0x1a26434128>"
      ]
     },
     "execution_count": 25,
     "metadata": {},
     "output_type": "execute_result"
    },
    {
     "data": {
      "image/png": "[encoded data removed]",
      "text/plain": [
       "<Figure size 432x288 with 1 Axes>"
      ]
     },
     "metadata": {
      "needs_background": "light"
     },
     "output_type": "display_data"
    }
   ],
   "source": [
    "xgb.plot_importance(result[0],max_num_features=10)"
   ]
  },
  {
   "cell_type": "code",
   "execution_count": 30,
   "metadata": {},
   "outputs": [
    {
     "data": {
      "text/plain": [
       "array([0.0856477 , 0.28298745, 0.9668463 , 0.19244507, 0.4023283 ,\n",
       "       0.05608154, 0.40110946, 0.8002341 , 0.99014986, 0.08776058,\n",
       "       0.23808497, 0.96584445, 0.94833195, 0.3285637 , 0.37543702,\n",
       "       0.32664812, 0.39660555, 0.053753  , 0.2818655 , 0.06296539],\n",
       "      dtype=float32)"
      ]
     },
     "execution_count": 30,
     "metadata": {},
     "output_type": "execute_result"
    }
   ],
   "source": [
    "result[1][0:20] # preview the top 20 of the prediction"
   ]
  },
  {
   "cell_type": "code",
   "execution_count": 31,
   "metadata": {},
   "outputs": [
    {
     "name": "stdout",
     "output_type": "stream",
     "text": [
      "Prediction Finished and saved!\n"
     ]
    }
   ],
   "source": [
    "# retrain on the whole dataset and wait for the real-test set in practice\n",
    "s3.final_product(col = list(set(data.columns)-set(['Survived'])), \n",
    "                 model = xgb.XGBClassifier, \n",
    "                 best_params=best_params, \n",
    "                 scorer=sk.metrics.roc_auc_score,\n",
    "                 fill_method = fill_method, \n",
    "                 fkbest=13, \n",
    "                 scaling = True, smote=True, classification=True)"
   ]
  },
  {
   "cell_type": "markdown",
   "metadata": {},
   "source": [
    "#### Step Four: AUTO Predict on new dataset"
   ]
  },
  {
   "cell_type": "code",
   "execution_count": 32,
   "metadata": {},
   "outputs": [],
   "source": [
    "test = pd.read_csv('./Test_Data/Titanic_test.csv')"
   ]
  },
  {
   "cell_type": "code",
   "execution_count": 33,
   "metadata": {},
   "outputs": [
    {
     "name": "stdout",
     "output_type": "stream",
     "text": [
      "remember to update the dataset\n"
     ]
    },
    {
     "data": {
      "text/plain": [
       "{'Age': '4',\n",
       " 'Embarked': '2',\n",
       " 'Fare': '4',\n",
       " 'Parch': '2',\n",
       " 'Pclass': '2',\n",
       " 'Sex': '2',\n",
       " 'SibSp': '2'}"
      ]
     },
     "execution_count": 33,
     "metadata": {},
     "output_type": "execute_result"
    }
   ],
   "source": [
    "s4 = autoPredict(test)\n",
    "s4.load_action()"
   ]
  },
  {
   "cell_type": "code",
   "execution_count": 34,
   "metadata": {},
   "outputs": [
    {
     "data": {
      "text/html": [
       "<div>\n",
       "<style scoped>\n",
       "    .dataframe tbody tr th:only-of-type {\n",
       "        vertical-align: middle;\n",
       "    }\n",
       "\n",
       "    .dataframe tbody tr th {\n",
       "        vertical-align: top;\n",
       "    }\n",
       "\n",
       "    .dataframe thead th {\n",
       "        text-align: right;\n",
       "    }\n",
       "</style>\n",
       "<table border=\"1\" class=\"dataframe\">\n",
       "  <thead>\n",
       "    <tr style=\"text-align: right;\">\n",
       "      <th></th>\n",
       "      <th>features</th>\n",
       "      <th>#null</th>\n",
       "    </tr>\n",
       "  </thead>\n",
       "  <tbody>\n",
       "    <tr>\n",
       "      <th>0</th>\n",
       "      <td>PassengerId</td>\n",
       "      <td>0</td>\n",
       "    </tr>\n",
       "    <tr>\n",
       "      <th>1</th>\n",
       "      <td>Pclass</td>\n",
       "      <td>0</td>\n",
       "    </tr>\n",
       "    <tr>\n",
       "      <th>2</th>\n",
       "      <td>Sex</td>\n",
       "      <td>0</td>\n",
       "    </tr>\n",
       "    <tr>\n",
       "      <th>3</th>\n",
       "      <td>Age</td>\n",
       "      <td>86</td>\n",
       "    </tr>\n",
       "    <tr>\n",
       "      <th>4</th>\n",
       "      <td>SibSp</td>\n",
       "      <td>0</td>\n",
       "    </tr>\n",
       "    <tr>\n",
       "      <th>5</th>\n",
       "      <td>Parch</td>\n",
       "      <td>0</td>\n",
       "    </tr>\n",
       "    <tr>\n",
       "      <th>6</th>\n",
       "      <td>Fare</td>\n",
       "      <td>1</td>\n",
       "    </tr>\n",
       "    <tr>\n",
       "      <th>7</th>\n",
       "      <td>Embarked</td>\n",
       "      <td>0</td>\n",
       "    </tr>\n",
       "  </tbody>\n",
       "</table>\n",
       "</div>"
      ],
      "text/plain": [
       "      features  #null\n",
       "0  PassengerId      0\n",
       "1       Pclass      0\n",
       "2          Sex      0\n",
       "3          Age     86\n",
       "4        SibSp      0\n",
       "5        Parch      0\n",
       "6         Fare      1\n",
       "7     Embarked      0"
      ]
     },
     "execution_count": 34,
     "metadata": {},
     "output_type": "execute_result"
    }
   ],
   "source": [
    "s4.check_missing()[0]"
   ]
  },
  {
   "cell_type": "code",
   "execution_count": 35,
   "metadata": {},
   "outputs": [
    {
     "data": {
      "text/plain": [
       "{1: 'drop', 2: 'dummy', 3: 'indicator', 4: 'numeric', 5: 'time', 6: 'later'}"
      ]
     },
     "execution_count": 35,
     "metadata": {},
     "output_type": "execute_result"
    }
   ],
   "source": [
    "actions_dict"
   ]
  },
  {
   "cell_type": "code",
   "execution_count": 36,
   "metadata": {},
   "outputs": [
    {
     "data": {
      "text/plain": [
       "Index(['PassengerId', 'Pclass', 'Sex', 'Age', 'SibSp', 'Parch', 'Fare',\n",
       "       'Embarked'],\n",
       "      dtype='object')"
      ]
     },
     "execution_count": 36,
     "metadata": {},
     "output_type": "execute_result"
    }
   ],
   "source": [
    "test.columns"
   ]
  },
  {
   "cell_type": "code",
   "execution_count": 37,
   "metadata": {},
   "outputs": [],
   "source": [
    "# from the load_action, we know that PassengerId should be dropped\n",
    "drop = [i for i in action_dict.keys() if action_dict[i]==str(1)]\n",
    "dummy = [i for i in action_dict.keys() if action_dict[i]==str(2)]\n",
    "indicator = [i for i in action_dict.keys() if action_dict[i]==str(3)]\n",
    "numeric = [i for i in action_dict.keys() if action_dict[i]==str(4)]\n",
    "time = [i for i in action_dict.keys() if action_dict[i]==str(5)]\n",
    "later = [i for i in action_dict.keys() if action_dict[i]==str(6)]\n",
    "\n",
    "test = test.drop(drop,axis=1)\n",
    "test[numeric] = test[numeric].astype(float)\n",
    "for ind in indicator:\n",
    "    test[ind] = np.where(~test[ind].isnull(),1,0)\n",
    "test = pd.get_dummies(test,columns=dummy,dummy_na=True)\n",
    "nan_col = []\n",
    "for i in test.columns:\n",
    "    if 'nan' in i:\n",
    "        nan_col.append(i)\n",
    "test = test.drop(drop+nan_col+['PassengerId'],axis=1)"
   ]
  },
  {
   "cell_type": "code",
   "execution_count": 38,
   "metadata": {},
   "outputs": [],
   "source": [
    "# update the dataset in the object\n",
    "s4.update_dataset(test)"
   ]
  },
  {
   "cell_type": "code",
   "execution_count": 39,
   "metadata": {},
   "outputs": [
    {
     "data": {
      "text/plain": [
       "['Age', 'Fare']"
      ]
     },
     "execution_count": 39,
     "metadata": {},
     "output_type": "execute_result"
    }
   ],
   "source": [
    "s4.check_missing()[1]"
   ]
  },
  {
   "cell_type": "code",
   "execution_count": 40,
   "metadata": {},
   "outputs": [
    {
     "data": {
      "text/plain": [
       "True"
      ]
     },
     "execution_count": 40,
     "metadata": {},
     "output_type": "execute_result"
    }
   ],
   "source": [
    "s4.check_object()"
   ]
  },
  {
   "cell_type": "code",
   "execution_count": 41,
   "metadata": {
    "scrolled": true
   },
   "outputs": [
    {
     "data": {
      "text/plain": [
       "array([0.04000884, 0.31495455, 0.10620081, 0.23820591, 0.88899785,\n",
       "       0.10327989, 0.72885805, 0.59606606, 0.7344605 , 0.05149583,\n",
       "       0.04693336, 0.18054335, 0.98502827, 0.0903472 , 0.98802894,\n",
       "       0.96197605, 0.27186468, 0.11427914, 0.58695745, 0.7344605 ],\n",
       "      dtype=float32)"
      ]
     },
     "execution_count": 41,
     "metadata": {},
     "output_type": "execute_result"
    }
   ],
   "source": [
    "# now we can use the auto predict function, it will automaticaaly use the information stored\n",
    "# in the previous training process to handld missing value\n",
    "s4.predict()[0:20] # preview the top 20 prediction"
   ]
  },
  {
   "cell_type": "code",
   "execution_count": null,
   "metadata": {},
   "outputs": [],
   "source": []
  }
 ],
 "metadata": {
  "kernelspec": {
   "display_name": "Python 3",
   "language": "python",
   "name": "python3"
  },
  "language_info": {
   "codemirror_mode": {
    "name": "ipython",
    "version": 3
   },
   "file_extension": ".py",
   "mimetype": "text/x-python",
   "name": "python",
   "nbconvert_exporter": "python",
   "pygments_lexer": "ipython3",
   "version": "3.6.8"
  }
 },
 "nbformat": 4,
 "nbformat_minor": 2
}
